{
  "cells": [
    {
      "cell_type": "markdown",
      "id": "26198dc0",
      "metadata": {
        "id": "26198dc0"
      },
      "source": [
        "# 1. What is 7 to the power of 4?"
      ]
    },
    {
      "cell_type": "code",
      "execution_count": null,
      "id": "21a5d6b8",
      "metadata": {
        "id": "21a5d6b8",
        "outputId": "39df6fb3-57ab-47f3-b379-d0b98302af61"
      },
      "outputs": [
        {
          "name": "stdout",
          "output_type": "stream",
          "text": [
            "2401.0\n"
          ]
        }
      ],
      "source": [
        "import math\n",
        "print(math.pow(7,4))"
      ]
    },
    {
      "cell_type": "markdown",
      "id": "e5f1e78e",
      "metadata": {
        "id": "e5f1e78e"
      },
      "source": [
        "# 2.  Split this string into a list. \n",
        "    s = \"Hi there Sam!\""
      ]
    },
    {
      "cell_type": "code",
      "execution_count": null,
      "id": "9bd851df",
      "metadata": {
        "id": "9bd851df",
        "outputId": "817f5862-5123-427a-f42f-aae9ab2ca7fc"
      },
      "outputs": [
        {
          "name": "stdout",
          "output_type": "stream",
          "text": [
            "['Hi', 'there', 'Sam!']\n"
          ]
        }
      ],
      "source": [
        "s=\"Hi there Sam!\"\n",
        "x=s.split()\n",
        "print(x)"
      ]
    },
    {
      "cell_type": "markdown",
      "id": "b9c06eab",
      "metadata": {
        "id": "b9c06eab"
      },
      "source": [
        "# 3.Given the variables\n",
        "    planet = \"Earth\"\n",
        "    diameter = 12742\n",
        " Use .format() to print the following string\n",
        " The diameter of Earth is 12742 kilometers."
      ]
    },
    {
      "cell_type": "code",
      "execution_count": null,
      "id": "a6308d45",
      "metadata": {
        "id": "a6308d45",
        "outputId": "daf8d49c-e351-40ad-f3cb-69fe922cec5b"
      },
      "outputs": [
        {
          "name": "stdout",
          "output_type": "stream",
          "text": [
            "The diameter of Earth is 12742 kilometers.\n"
          ]
        }
      ],
      "source": [
        "planet = \"Earth\"\n",
        "diameter = 12742\n",
        "txt = \"The diameter of {a} is {b} kilometers.\"\n",
        "print(txt.format(a=planet,b=diameter))"
      ]
    },
    {
      "cell_type": "markdown",
      "id": "7ed3e948",
      "metadata": {
        "id": "7ed3e948"
      },
      "source": [
        "# 4.Given this nested list, use indexing to grab the word \"hello\n",
        "    lst = [1,2,[3,4],[5,[100,200,['hello']],23,11],1,7]\n"
      ]
    },
    {
      "cell_type": "code",
      "source": [
        "lst = [1,2,[3,4],[5,[100,200,['hello']],23,11],1,7]\n",
        "lst[3][1][2][0]"
      ],
      "metadata": {
        "colab": {
          "base_uri": "https://localhost:8080/",
          "height": 36
        },
        "id": "OMklhp8QqxaF",
        "outputId": "26372e41-96be-4a18-a20d-70eb81ac3268"
      },
      "id": "OMklhp8QqxaF",
      "execution_count": 6,
      "outputs": [
        {
          "output_type": "execute_result",
          "data": {
            "text/plain": [
              "'hello'"
            ],
            "application/vnd.google.colaboratory.intrinsic+json": {
              "type": "string"
            }
          },
          "metadata": {},
          "execution_count": 6
        }
      ]
    },
    {
      "cell_type": "markdown",
      "id": "e8ec9fd6",
      "metadata": {
        "id": "e8ec9fd6"
      },
      "source": [
        "# 5. Given this nested dictionary grab the word \"hello\". Be prepared, this will be annoying/tricky\n",
        "    d = {'k1':[1,2,3,{'tricky':['oh','man','inception',{'target':[1,2,3,'hello']}]}]}"
      ]
    },
    {
      "cell_type": "code",
      "execution_count": null,
      "id": "72e6a116",
      "metadata": {
        "id": "72e6a116",
        "outputId": "53951406-ca5d-465e-ce36-b8b9cf00a8a7"
      },
      "outputs": [
        {
          "name": "stdout",
          "output_type": "stream",
          "text": [
            "hello\n"
          ]
        }
      ],
      "source": [
        "d = {'k1':[1,2,3,{'tricky':['oh','man','inception',{'target':[1,2,3,'hello']}]}]}\n",
        "print(d['k1'][3]['tricky'][3]['target'][3])"
      ]
    },
    {
      "cell_type": "markdown",
      "id": "522b8498",
      "metadata": {
        "id": "522b8498"
      },
      "source": [
        "# 6.What is the main difference between a tuple and a list?"
      ]
    },
    {
      "cell_type": "markdown",
      "id": "eb9da2dc",
      "metadata": {
        "id": "eb9da2dc"
      },
      "source": [
        "the main difference between tuples and lists is that tuples are immutable (cannot be modified) while lists are mutable (can be modified)."
      ]
    },
    {
      "cell_type": "markdown",
      "id": "f3677ad7",
      "metadata": {
        "id": "f3677ad7"
      },
      "source": [
        "# 7.Create a function that grabs the email website domain from a string in the form : user@domain.com\n",
        "    So for example, passing \"user@domain.com\" would return: domain.com"
      ]
    },
    {
      "cell_type": "code",
      "execution_count": null,
      "id": "5c532b13",
      "metadata": {
        "colab": {
          "base_uri": "https://localhost:8080/"
        },
        "id": "5c532b13",
        "outputId": "af7b3f0d-e865-411c-c2ca-e7cad14733f6"
      },
      "outputs": [
        {
          "output_type": "stream",
          "name": "stdout",
          "text": [
            "Please enter your email : world@gmail.com\n",
            "gmail.com\n"
          ]
        }
      ],
      "source": [
        "def domainGet(email):\n",
        "    print(email.split('@')[-1])\n",
        "email=input(\"Please enter your email : \")\n",
        "domainGet(email)"
      ]
    },
    {
      "cell_type": "markdown",
      "id": "ea6e7c68",
      "metadata": {
        "id": "ea6e7c68"
      },
      "source": [
        "# 8. Create a basic function that returns True if the word 'dog' is contained in the input string. \n",
        "    Don't worry about edge cases like a punctuation being attached to the word dog, but do account for capitalization."
      ]
    },
    {
      "cell_type": "code",
      "execution_count": null,
      "id": "619fa3c9",
      "metadata": {
        "colab": {
          "base_uri": "https://localhost:8080/"
        },
        "id": "619fa3c9",
        "outputId": "baa5e692-6022-4ac2-b586-92911dfaf901"
      },
      "outputs": [
        {
          "output_type": "stream",
          "name": "stdout",
          "text": [
            "Enter a string :dog is the most faithful animal\n",
            "True\n"
          ]
        }
      ],
      "source": [
        "def find(s):\n",
        "    if \"dog\" in s.lower():\n",
        "        print(\"True\")\n",
        "    else:\n",
        "        print(\"False\")\n",
        "s=input(\"Enter a string :\")\n",
        "find(s)"
      ]
    },
    {
      "cell_type": "markdown",
      "source": [
        "# 9. Use lambda expressions and the filter() function to filter out words from a list that don't start with the letter 's'.\n",
        "    For example:\n",
        "    seq = ['soup','dog','salad','cat','great']\n",
        "    should be filtered down to:    ['soup','salad']"
      ],
      "metadata": {
        "id": "Q0gHrXb6lBc-"
      },
      "id": "Q0gHrXb6lBc-"
    },
    {
      "cell_type": "code",
      "source": [
        "seq = ['soup','dog','salad','cat','great']\n",
        "list(filter(lambda word:word[0]=='s',seq))"
      ],
      "metadata": {
        "colab": {
          "base_uri": "https://localhost:8080/"
        },
        "id": "0-XJqAU3lc4t",
        "outputId": "7bcd8148-b3ff-42f0-c76e-47e8a53d3e69"
      },
      "id": "0-XJqAU3lc4t",
      "execution_count": null,
      "outputs": [
        {
          "output_type": "execute_result",
          "data": {
            "text/plain": [
              "['soup', 'salad']"
            ]
          },
          "metadata": {},
          "execution_count": 6
        }
      ]
    },
    {
      "cell_type": "markdown",
      "source": [
        "#10. You are driving a little too fast, and a police officer stops you. Write a function\n",
        "      to return one of 3 possible results: \"No ticket\", \"Small ticket\", or \"Big Ticket\". \n",
        "      If your speed is 60 or less, the result is \"No Ticket\". If speed is between 61 \n",
        "      and 80 inclusive, the result is \"Small Ticket\". If speed is 81 or more, the result is \"Big    Ticket\".\n",
        "     Unless it is your birthday (encoded as a boolean value in the parameters of the function) --\n",
        "     on your birthday, your speed can be 5 higher in all cases. "
      ],
      "metadata": {
        "id": "OnGWewQQmPeR"
      },
      "id": "OnGWewQQmPeR"
    },
    {
      "cell_type": "code",
      "source": [
        "print(\"Please enter the speed(km/h)\\n\")\n",
        "speed=int(input(\" \"))\n",
        "\n",
        "print(\"Enter your Birthday :\\n\")\n",
        "bday=str(input(\" \"))\n",
        "\n",
        "def speedlimit(speed,bday):\n",
        "  if bday==\"18/07/2002\":\n",
        "    s=speed-5\n",
        "  else:\n",
        "    s=speed\n",
        "  if s<=60:\n",
        "    print(\"No Ticket\")\n",
        "  elif s>=61 and s<=80:\n",
        "    print(\"Small Ticket\")\n",
        "  else:\n",
        "    print(\"Big Ticket\")\n",
        "speedlimit(speed,bday)      \n"
      ],
      "metadata": {
        "colab": {
          "base_uri": "https://localhost:8080/"
        },
        "id": "m38Ee-f0mUTW",
        "outputId": "c4def4b1-609d-4a9d-b97e-d193e50b9688"
      },
      "id": "m38Ee-f0mUTW",
      "execution_count": null,
      "outputs": [
        {
          "output_type": "stream",
          "name": "stdout",
          "text": [
            "Please enter the speed(km/h)\n",
            "\n",
            " 84\n",
            "Enter your Birthday :\n",
            "\n",
            " 18/07/2002\n",
            "Small Ticket\n"
          ]
        }
      ]
    },
    {
      "cell_type": "code",
      "source": [
        ""
      ],
      "metadata": {
        "id": "ZGD0Sv5plXZX"
      },
      "id": "ZGD0Sv5plXZX",
      "execution_count": null,
      "outputs": []
    }
  ],
  "metadata": {
    "kernelspec": {
      "display_name": "Python 3 (ipykernel)",
      "language": "python",
      "name": "python3"
    },
    "language_info": {
      "codemirror_mode": {
        "name": "ipython",
        "version": 3
      },
      "file_extension": ".py",
      "mimetype": "text/x-python",
      "name": "python",
      "nbconvert_exporter": "python",
      "pygments_lexer": "ipython3",
      "version": "3.9.12"
    },
    "colab": {
      "name": "Assignment 1.ipynb",
      "provenance": [],
      "collapsed_sections": []
    }
  },
  "nbformat": 4,
  "nbformat_minor": 5
}